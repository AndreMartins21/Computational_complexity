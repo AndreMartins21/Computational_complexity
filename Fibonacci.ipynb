{
 "cells": [
  {
   "cell_type": "code",
   "execution_count": 39,
   "id": "0d1ba018",
   "metadata": {},
   "outputs": [],
   "source": [
    "from time import time\n",
    "from typing import List\n",
    "import pandas as pd\n",
    "\n",
    "\n",
    "def timeit(f):\n",
    "    def count_time(*args, **kwargs) -> float:\n",
    "        \"\"\"\n",
    "        Returns the difference between the end and start time in milliseconds\n",
    "        \"\"\"\n",
    "        init_time = time()\n",
    "        res_function = f(*args, **kwargs)\n",
    "        final_time = time()\n",
    "        \n",
    "        return round((final_time - init_time)*1000, 5)\n",
    "    return count_time"
   ]
  },
  {
   "cell_type": "code",
   "execution_count": 40,
   "id": "965ba041",
   "metadata": {},
   "outputs": [],
   "source": [
    "def fib_1(n: int) -> int:\n",
    "    \"\"\"\n",
    "    Computational complexity: O(2^n)\n",
    "    \"\"\"\n",
    "    if n in (1, 2):\n",
    "        return 1\n",
    "    return fib_1(n-1) + fib_1(n-2)\n",
    "\n",
    "@timeit\n",
    "def run_fib1(n: int) -> float:\n",
    "    return fib_1(n)"
   ]
  },
  {
   "cell_type": "code",
   "execution_count": 41,
   "id": "88315b0b",
   "metadata": {},
   "outputs": [],
   "source": [
    "def fib_2(n: int, dp_vector: List[int]) -> int:\n",
    "    \"\"\"\n",
    "    Memoized solution;\n",
    "    Computacional complexity: O(2n+1)\n",
    "    \"\"\"\n",
    "    if (dp_vector[n]):\n",
    "        return dp_vector[n]\n",
    "    \n",
    "    if n in (1, 2):\n",
    "        response = 1\n",
    "    else:\n",
    "        response = fib_2(n-1, dp_vector) + fib_2(n-2, dp_vector)\n",
    "    \n",
    "    dp_vector[n] = response\n",
    "    return response\n",
    "\n",
    "@timeit\n",
    "def run_fib2(n: int) -> float:\n",
    "    dp_vector = [0]*(n+1)\n",
    "    return fib_2(n, dp_vector)"
   ]
  },
  {
   "cell_type": "code",
   "execution_count": 42,
   "id": "1d1929ac",
   "metadata": {},
   "outputs": [],
   "source": [
    "def fib_3(n: int) -> int:\n",
    "    \"\"\"\n",
    "    Bottom-Up Approach\n",
    "    Computacional complexity: O(n)\n",
    "    \"\"\"\n",
    "    if n in (1, 2):\n",
    "        return 1\n",
    "    \n",
    "    bottom_up: List[int] = [0]*(n+1)\n",
    "    bottom_up[1] = 1\n",
    "    bottom_up[2] = 1\n",
    "    \n",
    "    for i in range(3, n+1):\n",
    "        bottom_up[i] = bottom_up[i-1] + bottom_up[i-2]\n",
    "    \n",
    "    return bottom_up[n]\n",
    "\n",
    "@timeit\n",
    "def run_fib3(n: int) -> float:\n",
    "    return fib_3(n)"
   ]
  },
  {
   "cell_type": "code",
   "execution_count": 43,
   "id": "aea7494e",
   "metadata": {},
   "outputs": [],
   "source": [
    "# COMPARING ALL THESE METHODS:\n",
    "def compare_all_methods(N: int) -> pd.DataFrame:\n",
    "    times_methods = {\n",
    "        \"input\": [],\n",
    "        \"time_fib_1\": [],\n",
    "        \"time_fib_2\": [],\n",
    "        \"time_fib_3\": []\n",
    "    }\n",
    "\n",
    "    for i in range(1, N):\n",
    "        times_methods[\"input\"].append(i)\n",
    "\n",
    "        times_methods[\"time_fib_1\"].append(run_fib1(i))\n",
    "        times_methods[\"time_fib_2\"].append(run_fib2(i))\n",
    "        times_methods[\"time_fib_3\"].append(run_fib3(i))\n",
    "\n",
    "    df = pd.DataFrame(times_methods)\n",
    "    return df"
   ]
  },
  {
   "cell_type": "code",
   "execution_count": 52,
   "id": "2db79dd4",
   "metadata": {},
   "outputs": [
    {
     "data": {
      "text/html": [
       "<div>\n",
       "<style scoped>\n",
       "    .dataframe tbody tr th:only-of-type {\n",
       "        vertical-align: middle;\n",
       "    }\n",
       "\n",
       "    .dataframe tbody tr th {\n",
       "        vertical-align: top;\n",
       "    }\n",
       "\n",
       "    .dataframe thead th {\n",
       "        text-align: right;\n",
       "    }\n",
       "</style>\n",
       "<table border=\"1\" class=\"dataframe\">\n",
       "  <thead>\n",
       "    <tr style=\"text-align: right;\">\n",
       "      <th></th>\n",
       "      <th>input</th>\n",
       "      <th>time_fib_1</th>\n",
       "      <th>time_fib_2</th>\n",
       "      <th>time_fib_3</th>\n",
       "    </tr>\n",
       "  </thead>\n",
       "  <tbody>\n",
       "    <tr>\n",
       "      <th>34</th>\n",
       "      <td>35</td>\n",
       "      <td>1002.09618</td>\n",
       "      <td>0.01240</td>\n",
       "      <td>0.00691</td>\n",
       "    </tr>\n",
       "    <tr>\n",
       "      <th>35</th>\n",
       "      <td>36</td>\n",
       "      <td>1585.20222</td>\n",
       "      <td>0.02646</td>\n",
       "      <td>0.00644</td>\n",
       "    </tr>\n",
       "    <tr>\n",
       "      <th>36</th>\n",
       "      <td>37</td>\n",
       "      <td>2566.00690</td>\n",
       "      <td>0.01168</td>\n",
       "      <td>0.00668</td>\n",
       "    </tr>\n",
       "    <tr>\n",
       "      <th>37</th>\n",
       "      <td>38</td>\n",
       "      <td>4232.38182</td>\n",
       "      <td>0.01168</td>\n",
       "      <td>0.00668</td>\n",
       "    </tr>\n",
       "    <tr>\n",
       "      <th>38</th>\n",
       "      <td>39</td>\n",
       "      <td>7015.83910</td>\n",
       "      <td>0.01359</td>\n",
       "      <td>0.00834</td>\n",
       "    </tr>\n",
       "  </tbody>\n",
       "</table>\n",
       "</div>"
      ],
      "text/plain": [
       "    input  time_fib_1  time_fib_2  time_fib_3\n",
       "34     35  1002.09618     0.01240     0.00691\n",
       "35     36  1585.20222     0.02646     0.00644\n",
       "36     37  2566.00690     0.01168     0.00668\n",
       "37     38  4232.38182     0.01168     0.00668\n",
       "38     39  7015.83910     0.01359     0.00834"
      ]
     },
     "execution_count": 52,
     "metadata": {},
     "output_type": "execute_result"
    }
   ],
   "source": [
    "df = compare_all_methods(N = 40)\n",
    "df.tail()"
   ]
  },
  {
   "cell_type": "code",
   "execution_count": 54,
   "id": "2aeebec4",
   "metadata": {},
   "outputs": [
    {
     "data": {
      "text/html": [
       "<div>\n",
       "<style scoped>\n",
       "    .dataframe tbody tr th:only-of-type {\n",
       "        vertical-align: middle;\n",
       "    }\n",
       "\n",
       "    .dataframe tbody tr th {\n",
       "        vertical-align: top;\n",
       "    }\n",
       "\n",
       "    .dataframe thead th {\n",
       "        text-align: right;\n",
       "    }\n",
       "</style>\n",
       "<table border=\"1\" class=\"dataframe\">\n",
       "  <thead>\n",
       "    <tr style=\"text-align: right;\">\n",
       "      <th></th>\n",
       "      <th>input</th>\n",
       "      <th>time_fib_1</th>\n",
       "      <th>time_fib_2</th>\n",
       "      <th>time_fib_3</th>\n",
       "      <th>fib2-fib3</th>\n",
       "      <th>fib1-fib2</th>\n",
       "      <th>fib1-fib3</th>\n",
       "    </tr>\n",
       "  </thead>\n",
       "  <tbody>\n",
       "    <tr>\n",
       "      <th>34</th>\n",
       "      <td>35</td>\n",
       "      <td>1002.09618</td>\n",
       "      <td>0.01240</td>\n",
       "      <td>0.00691</td>\n",
       "      <td>0.00549</td>\n",
       "      <td>1002.08378</td>\n",
       "      <td>1002.08927</td>\n",
       "    </tr>\n",
       "    <tr>\n",
       "      <th>35</th>\n",
       "      <td>36</td>\n",
       "      <td>1585.20222</td>\n",
       "      <td>0.02646</td>\n",
       "      <td>0.00644</td>\n",
       "      <td>0.02002</td>\n",
       "      <td>1585.17576</td>\n",
       "      <td>1585.19578</td>\n",
       "    </tr>\n",
       "    <tr>\n",
       "      <th>36</th>\n",
       "      <td>37</td>\n",
       "      <td>2566.00690</td>\n",
       "      <td>0.01168</td>\n",
       "      <td>0.00668</td>\n",
       "      <td>0.00500</td>\n",
       "      <td>2565.99522</td>\n",
       "      <td>2566.00022</td>\n",
       "    </tr>\n",
       "    <tr>\n",
       "      <th>37</th>\n",
       "      <td>38</td>\n",
       "      <td>4232.38182</td>\n",
       "      <td>0.01168</td>\n",
       "      <td>0.00668</td>\n",
       "      <td>0.00500</td>\n",
       "      <td>4232.37014</td>\n",
       "      <td>4232.37514</td>\n",
       "    </tr>\n",
       "    <tr>\n",
       "      <th>38</th>\n",
       "      <td>39</td>\n",
       "      <td>7015.83910</td>\n",
       "      <td>0.01359</td>\n",
       "      <td>0.00834</td>\n",
       "      <td>0.00525</td>\n",
       "      <td>7015.82551</td>\n",
       "      <td>7015.83076</td>\n",
       "    </tr>\n",
       "  </tbody>\n",
       "</table>\n",
       "</div>"
      ],
      "text/plain": [
       "    input  time_fib_1  time_fib_2  time_fib_3  fib2-fib3   fib1-fib2  \\\n",
       "34     35  1002.09618     0.01240     0.00691    0.00549  1002.08378   \n",
       "35     36  1585.20222     0.02646     0.00644    0.02002  1585.17576   \n",
       "36     37  2566.00690     0.01168     0.00668    0.00500  2565.99522   \n",
       "37     38  4232.38182     0.01168     0.00668    0.00500  4232.37014   \n",
       "38     39  7015.83910     0.01359     0.00834    0.00525  7015.82551   \n",
       "\n",
       "     fib1-fib3  \n",
       "34  1002.08927  \n",
       "35  1585.19578  \n",
       "36  2566.00022  \n",
       "37  4232.37514  \n",
       "38  7015.83076  "
      ]
     },
     "execution_count": 54,
     "metadata": {},
     "output_type": "execute_result"
    }
   ],
   "source": [
    "\"Get columns comparing time difference between each pair of methods\"\n",
    "df[\"fib2-fib3\"] = df[\"time_fib_2\"] - df[\"time_fib_3\"]\n",
    "df[\"fib1-fib2\"] = df[\"time_fib_1\"] - df[\"time_fib_2\"]\n",
    "df[\"fib1-fib3\"] = df[\"time_fib_1\"] - df[\"time_fib_3\"]\n",
    "\n",
    "df.tail()"
   ]
  },
  {
   "cell_type": "code",
   "execution_count": 61,
   "id": "5752f17b",
   "metadata": {},
   "outputs": [
    {
     "data": {
      "text/plain": [
       "count    39.000000\n",
       "mean      0.003454\n",
       "std       0.004416\n",
       "min      -0.000480\n",
       "25%       0.001190\n",
       "50%       0.001670\n",
       "75%       0.004290\n",
       "max       0.020510\n",
       "Name: fib2-fib3, dtype: float64"
      ]
     },
     "execution_count": 61,
     "metadata": {},
     "output_type": "execute_result"
    }
   ],
   "source": [
    "df[\"fib2-fib3\"].describe()"
   ]
  },
  {
   "cell_type": "code",
   "execution_count": 83,
   "id": "e936399e",
   "metadata": {},
   "outputs": [],
   "source": [
    "# COMPARING METHODS 2 AND 3\n",
    "def compare_methods_2_3(N: int) -> pd.DataFrame:\n",
    "    times_methods = {\n",
    "        \"input\": [],\n",
    "        \"time_fib_2\": [],\n",
    "        \"time_fib_3\": []\n",
    "    }\n",
    "\n",
    "    for i in range(1, N):\n",
    "        times_methods[\"input\"].append(i)\n",
    "\n",
    "        times_methods[\"time_fib_2\"].append(run_fib2(i))\n",
    "        times_methods[\"time_fib_3\"].append(run_fib3(i))\n",
    "\n",
    "    df = pd.DataFrame(times_methods)\n",
    "    df[\"fib2-fib3\"] = df[\"time_fib_2\"] - df[\"time_fib_3\"]\n",
    "    return df"
   ]
  },
  {
   "cell_type": "code",
   "execution_count": 84,
   "id": "34792152",
   "metadata": {},
   "outputs": [
    {
     "data": {
      "text/html": [
       "<div>\n",
       "<style scoped>\n",
       "    .dataframe tbody tr th:only-of-type {\n",
       "        vertical-align: middle;\n",
       "    }\n",
       "\n",
       "    .dataframe tbody tr th {\n",
       "        vertical-align: top;\n",
       "    }\n",
       "\n",
       "    .dataframe thead th {\n",
       "        text-align: right;\n",
       "    }\n",
       "</style>\n",
       "<table border=\"1\" class=\"dataframe\">\n",
       "  <thead>\n",
       "    <tr style=\"text-align: right;\">\n",
       "      <th></th>\n",
       "      <th>input</th>\n",
       "      <th>time_fib_2</th>\n",
       "      <th>time_fib_3</th>\n",
       "      <th>fib2-fib3</th>\n",
       "    </tr>\n",
       "  </thead>\n",
       "  <tbody>\n",
       "    <tr>\n",
       "      <th>994</th>\n",
       "      <td>995</td>\n",
       "      <td>0.19813</td>\n",
       "      <td>0.08321</td>\n",
       "      <td>0.11492</td>\n",
       "    </tr>\n",
       "    <tr>\n",
       "      <th>995</th>\n",
       "      <td>996</td>\n",
       "      <td>0.20003</td>\n",
       "      <td>0.08225</td>\n",
       "      <td>0.11778</td>\n",
       "    </tr>\n",
       "    <tr>\n",
       "      <th>996</th>\n",
       "      <td>997</td>\n",
       "      <td>0.19908</td>\n",
       "      <td>0.08154</td>\n",
       "      <td>0.11754</td>\n",
       "    </tr>\n",
       "    <tr>\n",
       "      <th>997</th>\n",
       "      <td>998</td>\n",
       "      <td>0.19979</td>\n",
       "      <td>0.08178</td>\n",
       "      <td>0.11801</td>\n",
       "    </tr>\n",
       "    <tr>\n",
       "      <th>998</th>\n",
       "      <td>999</td>\n",
       "      <td>0.19908</td>\n",
       "      <td>0.08202</td>\n",
       "      <td>0.11706</td>\n",
       "    </tr>\n",
       "  </tbody>\n",
       "</table>\n",
       "</div>"
      ],
      "text/plain": [
       "     input  time_fib_2  time_fib_3  fib2-fib3\n",
       "994    995     0.19813     0.08321    0.11492\n",
       "995    996     0.20003     0.08225    0.11778\n",
       "996    997     0.19908     0.08154    0.11754\n",
       "997    998     0.19979     0.08178    0.11801\n",
       "998    999     0.19908     0.08202    0.11706"
      ]
     },
     "execution_count": 84,
     "metadata": {},
     "output_type": "execute_result"
    }
   ],
   "source": [
    "df2 = compare_methods_2_3(1000)\n",
    "df2.tail()"
   ]
  },
  {
   "cell_type": "code",
   "execution_count": 85,
   "id": "b5ce4e21",
   "metadata": {},
   "outputs": [
    {
     "data": {
      "text/plain": [
       "count    999.000000\n",
       "mean       0.060653\n",
       "std        0.042644\n",
       "min       -0.154490\n",
       "25%        0.032785\n",
       "50%        0.058170\n",
       "75%        0.088335\n",
       "max        0.558620\n",
       "Name: fib2-fib3, dtype: float64"
      ]
     },
     "execution_count": 85,
     "metadata": {},
     "output_type": "execute_result"
    }
   ],
   "source": [
    "df2[\"fib2-fib3\"].describe()"
   ]
  },
  {
   "cell_type": "code",
   "execution_count": 86,
   "id": "6cef01aa",
   "metadata": {},
   "outputs": [
    {
     "data": {
      "text/plain": [
       "input         172.00000\n",
       "time_fib_2      0.58818\n",
       "time_fib_3      0.02956\n",
       "fib2-fib3       0.55862\n",
       "Name: 171, dtype: float64"
      ]
     },
     "execution_count": 86,
     "metadata": {},
     "output_type": "execute_result"
    }
   ],
   "source": [
    "df2.loc[df2[\"time_fib_2\"].idxmax(), :]"
   ]
  },
  {
   "cell_type": "code",
   "execution_count": 96,
   "id": "b6dac6a8",
   "metadata": {},
   "outputs": [
    {
     "data": {
      "text/plain": [
       "<AxesSubplot:ylabel='Frequency'>"
      ]
     },
     "execution_count": 96,
     "metadata": {},
     "output_type": "execute_result"
    },
    {
     "data": {
      "image/png": "[encoded data removed]",
      "text/plain": [
       "<Figure size 1000x400 with 1 Axes>"
      ]
     },
     "metadata": {},
     "output_type": "display_data"
    }
   ],
   "source": [
    "df2[\"fib2-fib3\"].plot(\n",
    "    kind=\"hist\", bins=100, grid=False, figsize=(10,4), color='blue', zorder=2, rwidth=0.5\n",
    ")"
   ]
  },
  {
   "cell_type": "code",
   "execution_count": 106,
   "id": "69cb449b",
   "metadata": {},
   "outputs": [
    {
     "data": {
      "text/plain": [
       "<AxesSubplot:xlabel='time_fib_3', ylabel='time_fib_2'>"
      ]
     },
     "execution_count": 106,
     "metadata": {},
     "output_type": "execute_result"
    },
    {
     "data": {
      "image/png": "[encoded data removed]",
      "text/plain": [
       "<Figure size 640x480 with 1 Axes>"
      ]
     },
     "metadata": {},
     "output_type": "display_data"
    }
   ],
   "source": [
    "df2.plot.scatter(x='time_fib_3', y='time_fib_2', s = 15)"
   ]
  }
 ],
 "metadata": {
  "kernelspec": {
   "display_name": "Python 3 (ipykernel)",
   "language": "python",
   "name": "python3"
  },
  "language_info": {
   "codemirror_mode": {
    "name": "ipython",
    "version": 3
   },
   "file_extension": ".py",
   "mimetype": "text/x-python",
   "name": "python",
   "nbconvert_exporter": "python",
   "pygments_lexer": "ipython3",
   "version": "3.9.13"
  }
 },
 "nbformat": 4,
 "nbformat_minor": 5
}
